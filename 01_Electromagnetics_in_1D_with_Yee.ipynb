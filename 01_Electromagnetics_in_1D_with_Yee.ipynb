{
 "cells": [
  {
   "cell_type": "markdown",
   "metadata": {},
   "source": [
    "# Electromagnetic field evolution in 1D\n",
    "\n",
    "This notebook introduces the fundamental principles of how the evolution of the electric and magnetic fields over time can be computed. As a first case, we will ignore electric charges (charged particles) and thus currents and stick to one-dimensional simulations. Later notebooks will extend on the algorithms presented here. "
   ]
  },
  {
   "cell_type": "markdown",
   "metadata": {},
   "source": [
    "### Remark:\n",
    "All notebooks here use [`python`](https://www.python.org/) as a programming language. This is not the most performant choice since `python` is an interpreted language. To make matters even worse, we will not use efficient modules like [`numpy`](https://www.numpy.org/) in order to demonstrate the algorithms clearly and not obfuscate them by writing them as efficient `numpy` function calls. "
   ]
  },
  {
   "cell_type": "markdown",
   "metadata": {},
   "source": [
    "## Maxwell's equations\n",
    "\n",
    "Classical electrodynamics, the interplay between electric and magnetic fields and how they are changed based on charges and currents, is described by the four [Maxwell's equations](https://en.wikipedia.org/wiki/Maxwell%27s_equations).\n",
    "\n",
    "$\n",
    "\\begin{eqnarray}\n",
    "\\vec{\\nabla} \\vec{E} & = & \\frac{\\rho}{\\epsilon_0} \\tag{1}\\\\\n",
    "\\vec{\\nabla} \\vec{B} & = & 0 \\tag{2} \\\\\n",
    "\\vec{\\nabla} \\times \\vec{E} & = & - \\frac{\\partial \\vec{B}}{\\partial t} \\tag{3} \\\\\n",
    "\\vec{\\nabla} \\times \\vec{B} & = & \\mu_0 \\vec{J} - \\mu_0 \\epsilon_0 \\frac{\\partial \\vec{E}}{\\partial t} \\tag{4}\n",
    "\\end{eqnarray}\n",
    "$\n",
    "\n",
    "with $\\vec{E}$ being the electric and $\\vec{B}$ being the magnetic field. $\\vec{J}$ is the current and $\\rho$ the charge density. The differential operator $\\vec{\\nabla}$ defines the divergence and rotation and can be written as \n",
    "\n",
    "$$\n",
    "\\vec{\\nabla} = \\begin{bmatrix}\\vec{e}_x \\frac{\\partial}{\\partial x} \\\\  \\vec{e}_y \\frac{\\partial}{\\partial y} \\\\ \\vec{e}_z \\frac{\\partial}{\\partial z} \\end{bmatrix} \n",
    "$$\n",
    "\n",
    "$\\epsilon_0$ and $\\mu_0$ are constants. The first is called [vacuum permittivity](https://en.wikipedia.org/wiki/Vacuum_permittivity) or electric constant. The second is named the [vacuum permeability](https://en.wikipedia.org/wiki/Vacuum_permeability) or magnetic constant. They are related to the speed of light $c$ by the following relationship:\n",
    "\n",
    "$$\n",
    "c^2 = \\frac{1}{\\epsilon_0 \\mu_0}\n",
    "$$\n"
   ]
  },
  {
   "cell_type": "code",
   "execution_count": 1,
   "metadata": {},
   "outputs": [],
   "source": [
    "import matplotlib.pyplot as plt"
   ]
  },
  {
   "cell_type": "code",
   "execution_count": null,
   "metadata": {},
   "outputs": [],
   "source": []
  }
 ],
 "metadata": {
  "kernelspec": {
   "display_name": "Python 3",
   "language": "python",
   "name": "python3"
  },
  "language_info": {
   "codemirror_mode": {
    "name": "ipython",
    "version": 3
   },
   "file_extension": ".py",
   "mimetype": "text/x-python",
   "name": "python",
   "nbconvert_exporter": "python",
   "pygments_lexer": "ipython3",
   "version": "3.6.5"
  }
 },
 "nbformat": 4,
 "nbformat_minor": 2
}
